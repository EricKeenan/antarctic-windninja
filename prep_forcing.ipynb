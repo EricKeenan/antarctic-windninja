{
 "cells": [
  {
   "cell_type": "markdown",
   "metadata": {},
   "source": [
    "# Prepare NetCDF files for WindNinja\n",
    "### For each *.smet file, retrieve Northing, Easting, T2M, U10M, V10M, and Cloud Cover. \n",
    "### Then save to a NetCDF file\n",
    "### Then merge all NetCDF files into WRF-ARW compliant format in EPSG3031."
   ]
  },
  {
   "cell_type": "code",
   "execution_count": 1,
   "metadata": {},
   "outputs": [],
   "source": [
    "import numpy as np\n",
    "import pandas as pd\n",
    "import datetime\n",
    "import matplotlib.pyplot as plt\n",
    "import re\n",
    "import xarray as xr\n",
    "import os"
   ]
  },
  {
   "cell_type": "markdown",
   "metadata": {},
   "source": [
    "## Function to retrieve met information"
   ]
  },
  {
   "cell_type": "code",
   "execution_count": null,
   "metadata": {},
   "outputs": [],
   "source": [
    "def retrieve_met(file_path):\n",
    "    # Print file path\n",
    "    print(file_path)\n",
    "    \n",
    "    # Return a data frame with T2M, U10M, and V10M\n",
    "    df = pd.read_csv(file_path)\n",
    "    bump = 2\n",
    "    data_row = np.where(df[df.columns[0]] == '[DATA]')[0][0] + bump\n",
    "    time = np.loadtxt(file_path, skiprows=data_row, usecols=0, dtype = 'str')\n",
    "    time = pd.to_datetime(time, format='%Y-%m-%dT%H:%M:%S')\n",
    "    data = np.loadtxt(file_path, skiprows=data_row, usecols=[1, 5, 6])\n",
    "    ts = pd.DataFrame(data, index=time)\n",
    "    ts[ts == -999] = np.nan\n",
    "    ts.columns = ['T2M [K]', 'U10M [m/s]', 'V10M [m/s]']\n",
    "    ts.index.name = 'Time'\n",
    "    \n",
    "    # Retrieve northing and easting\n",
    "    easting_line = np.where(df[df.columns[0]].str.startswith(\"easting\"))[0][0]\n",
    "    easting = float(str(df['SMET 1.1 ASCII'][easting_line]).split()[-1])\n",
    "    \n",
    "    northing_line = np.where(df[df.columns[0]].str.startswith(\"northing\"))[0][0]\n",
    "    northing = float(str(df['SMET 1.1 ASCII'][northing_line]).split()[-1])\n",
    "    \n",
    "    # Return output\n",
    "    return northing, easting, ts"
   ]
  },
  {
   "cell_type": "markdown",
   "metadata": {},
   "source": [
    "## Testing"
   ]
  },
  {
   "cell_type": "code",
   "execution_count": null,
   "metadata": {},
   "outputs": [],
   "source": [
    "# Gather data\n",
    "file_path1 = \"/scratch/summit/erke2265/SNOWPACK_WAIS/input/meteo/A3D_site_1.smet\"\n",
    "count = 0\n",
    "stations = []\n",
    "eastings = []\n",
    "northings = []\n",
    "path = \"/scratch/summit/erke2265/SNOWPACK_WAIS/input/meteo/\"\n",
    "for file_name in os.listdir(path):\n",
    "#     if file_name.endswith(\".smet\") and count < 1:\n",
    "    if file_name.endswith(\"34.smet\") and count < 1:\n",
    "        count +=1\n",
    "        file_path = path + file_name\n",
    "        print(count)\n",
    "        northing, easting, df = retrieve_met(file_path)\n",
    "        stations.append(count)\n",
    "        northings.append(northing)\n",
    "        eastings.append(easting)\n",
    "        if count == 1:\n",
    "            T2M = np.vstack([df['T2M [K]']])\n",
    "            U10M = np.vstack([df['U10M [m/s]']])\n",
    "            V10M = np.vstack([df['V10M [m/s]']])\n",
    "        else:\n",
    "            T2M = np.vstack((T2M, [df['T2M [K]']]))\n",
    "            U10M = np.vstack((U10M, [df['U10M [m/s]']]))\n",
    "            V10M = np.vstack((V10M, [df['V10M [m/s]']]))"
   ]
  },
  {
   "cell_type": "code",
   "execution_count": null,
   "metadata": {},
   "outputs": [],
   "source": [
    "# Save to xarray\n",
    "ds_save = xr.Dataset(\n",
    "    {\n",
    "        \"T2\": ((\"station\", \"Time\"), T2M),\n",
    "        \"U10\": ((\"station\", \"Time\"), U10M),\n",
    "        \"V10\": ((\"station\", \"Time\"), V10M),\n",
    "        \"QCLOUD\": ((\"station\", \"Time\"), np.ones(T2M.shape)),\n",
    "        \"northing\":([\"station\"], northings),\n",
    "        \"easting\":([\"station\"], eastings)\n",
    "    \n",
    "    },\n",
    "    coords={\n",
    "        \"station\": ([\"station\"], stations),\n",
    "        \"Time\":((\"Time\"), df.index)\n",
    "    },\n",
    ")\n",
    "ds_save.attrs['TITLE'] = \"WRF Proxy\"\n",
    "ds_save.attrs['MAP_PROJ'] = \"2\"\n",
    "ds_save"
   ]
  },
  {
   "cell_type": "code",
   "execution_count": null,
   "metadata": {},
   "outputs": [],
   "source": [
    "# Save to NetCDF\n",
    "!rm WN_forcing.nc\n",
    "ds_save.to_netcdf(\"WN_forcing.nc\", mode='w')"
   ]
  },
  {
   "cell_type": "code",
   "execution_count": null,
   "metadata": {},
   "outputs": [],
   "source": [
    "# Open NetCDF\n",
    "ds_open = xr.open_dataset(\"WN_forcing.nc\")\n",
    "ds_open"
   ]
  },
  {
   "cell_type": "code",
   "execution_count": null,
   "metadata": {},
   "outputs": [],
   "source": [
    "ds_save.close()\n",
    "ds_open.close()"
   ]
  }
 ],
 "metadata": {
  "kernelspec": {
   "display_name": "alpine3d",
   "language": "python",
   "name": "alpine3d"
  },
  "language_info": {
   "codemirror_mode": {
    "name": "ipython",
    "version": 3
   },
   "file_extension": ".py",
   "mimetype": "text/x-python",
   "name": "python",
   "nbconvert_exporter": "python",
   "pygments_lexer": "ipython3",
   "version": "3.6.10"
  }
 },
 "nbformat": 4,
 "nbformat_minor": 4
}
